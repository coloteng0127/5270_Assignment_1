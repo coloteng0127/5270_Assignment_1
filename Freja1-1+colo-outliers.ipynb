{
 "cells": [
  {
   "cell_type": "markdown",
   "metadata": {
    "id": "ELs-DoWgo5S9"
   },
   "source": [
    "# Homework 1: Data-driven decison making\n",
    "\n",
    "Read the case study *Select Collections, Inc.* included with this assignment. You will play a role similar to that of the summer intern, Marcos Kilduff. However, your assignment is not to predict `totalpay` for the observations in the test set. Instead, your task is to **decide** which of the accounts in the test set should be purchased and to **evaluate** the profits that your purchasing decisions could generate. Purchasing any individual account costs 25% of the account's balance (`cobal`).\n",
    "\n",
    "## Instructions and Grade Breakdown\n",
    "\n",
    "You must submit your assignment individually, and you will be graded individually, but you are expected to work on the assignment with one or two other classmates. Your role in the group is to help your classmates submit a better assignment. This is not the same as doing the assignment for them, and you should report if there are any free riders in your group. Your classmates should also help you do a better assignment or in less time than what you could have done on your own. I encourage everyone in the group to submit the same assignment, but it is OK if you submit a different assignment than other group members.\n",
    "\n",
    "The grade breakdown for this assignment is as follows:\n",
    "1. **Decision-making (50\\%):** You will be evaluated primarily based on how profitable your solution is, and secondly based on how well you did compared to other groups. So, the more profits you generate, the better. Your decisions must be uploaded in a file called \"decisions_NICKNAME.csv\" (replace NICKNAME with your nickname; people in the same group can have the same nickname). The first column must have the header \"acctid\" and contain the ID of all the accounts in the test set. The second column must have the header \"decision\" and contain the purchase decisions for all the accounts in the test set: use a 1 for accounts you decide to purchase and a 0 for accounts you decide not to purchase. For an example of how to output a file with these characteristics, see the code below. **IMPORTANT**: You will receive no credits if the file you upload does not follow these guidelines, so please be careful.\n",
    "2. **Evaluation (30\\%):** You must also report an estimate of how much profits do you expect to make with your decisions. You will be evaluated primarily based on how well you estimate the profits you actually make, and secondly based on your performance compared to other groups. Your estimate must be uploaded as a non-formatted integer number in a file called \"estimate_NICKNAME.txt\" (replace NICKNAME with your nickname; people in the same group can have the same nickname). For an example of how to output a file with these characteristics, see the code below. **IMPORTANT**: You will receive no credits if the file you upload does not follow these guidelines, so please be careful.\n",
    "3. **Teamwork (20\\%):** You and your group members must evaluate each other by completing the peer evaluation in this link: https://canvas.ust.hk/courses/46343/quizzes/87071. **IMPORTANT**: You will receive no credits if you do not complete your peer evaluation as part of your submission, so please be careful. One of the questions in the evaluation is this one: `Did this group member helped you submit a better assignment or in less time than what you could have done on your own?` Your grade will depend on the answer of other group members, and their grade will depend on your answer. These are the possible answers:\n",
    "   * Great: \"Definitely. My assignment is much better or it took me much less time than if I had done it without them.\" (+10% to grade, or +20% if you are in a group of 2)\n",
    "   * Acceptable: \"To some extent. My assignment is slightly better or it took me slightly less time than if I had done it without them.\" (+5% to grade, or +10% if you are in a group of 2)\n",
    "   * Worrisome: \"Not really. They did not save me time or help me submit a better assignment, but they gave it an honest try.\" (+2% to grade, or +4% if you are in a group of 2, and the person who answered this should reach out to the corresponding group member)\n",
    "   * Unacceptable: \"No. And they offered me very little help or no help at all.\" (+0%, the person who answered this should reach out to the corresponding group member, and the professor will look into it)\n",
    "\n",
    "\n",
    "4. **Code (required):** You must also submit your code and ensure your results can be reproduced. We won't evaluate your code, but you will receive no credits if we can't reproduce your results or if we suspect plagiarism (you must work on this assignment only with people in your group).\n",
    "\n",
    "Tips:\n",
    "* Don't try to build the best possible model from the start. Just try to build something that is profitable and works better than just buying all the accounts. Then, keep improving your model if you have extra time. \n",
    "* Remember to use labeled data for the evaluation.\n",
    "* The following tip is optional and intended for people who want to go the extra mile with evaluation. The variance of the target variable in this data set is large, so it's possible to obtain a not-so-great evaluation estimate due to a relatively bad train/test split. To address this issue, you may want to average your evaluation results across multiple train/test splits. See the `for` loop in the code at the end of this post for an example: https://thinkingneuron.com/how-to-test-machine-learning-models-using-bootstrapping/. Alternatively, you could use nested cross-validation. You can find an example here: https://scikit-learn.org/stable/auto_examples/model_selection/plot_nested_cross_validation_iris.html.\n",
    "\n",
    "A couple of other things:\n",
    "* I will use your nickname to report your group's performance to the entire class. So, do not share your nickname with others (unless you don't care about everyone else knowing how well you or your group did).  \n",
    "* The coding component of the final exam will be similar to this assignment. So, take this as an opportunity to practice."
   ]
  },
  {
   "cell_type": "code",
   "execution_count": 87,
   "metadata": {},
   "outputs": [
    {
     "ename": "ModuleNotFoundError",
     "evalue": "No module named 'missingno'",
     "output_type": "error",
     "traceback": [
      "\u001b[0;31m---------------------------------------------------------------------------\u001b[0m",
      "\u001b[0;31mModuleNotFoundError\u001b[0m                       Traceback (most recent call last)",
      "Input \u001b[0;32mIn [87]\u001b[0m, in \u001b[0;36m<cell line: 13>\u001b[0;34m()\u001b[0m\n\u001b[1;32m     11\u001b[0m \u001b[38;5;28;01mimport\u001b[39;00m \u001b[38;5;21;01mmatplotlib\u001b[39;00m\u001b[38;5;21;01m.\u001b[39;00m\u001b[38;5;21;01mpyplot\u001b[39;00m \u001b[38;5;28;01mas\u001b[39;00m \u001b[38;5;21;01mplt\u001b[39;00m\n\u001b[1;32m     12\u001b[0m plt\u001b[38;5;241m.\u001b[39mstyle\u001b[38;5;241m.\u001b[39muse(style\u001b[38;5;241m=\u001b[39m\u001b[38;5;124m\"\u001b[39m\u001b[38;5;124mggplot\u001b[39m\u001b[38;5;124m\"\u001b[39m)\n\u001b[0;32m---> 13\u001b[0m \u001b[38;5;28;01mimport\u001b[39;00m \u001b[38;5;21;01mmissingno\u001b[39;00m \u001b[38;5;28;01mas\u001b[39;00m \u001b[38;5;21;01mmsno\u001b[39;00m\n\u001b[1;32m     14\u001b[0m \u001b[38;5;28;01mimport\u001b[39;00m \u001b[38;5;21;01mseaborn\u001b[39;00m \u001b[38;5;28;01mas\u001b[39;00m \u001b[38;5;21;01msns\u001b[39;00m\n\u001b[1;32m     15\u001b[0m sns\u001b[38;5;241m.\u001b[39mset()\n",
      "\u001b[0;31mModuleNotFoundError\u001b[0m: No module named 'missingno'"
     ]
    }
   ],
   "source": [
    "from IPython.core.interactiveshell import InteractiveShell\n",
    "InteractiveShell.ast_node_interactivity = 'all'\n",
    "import warnings\n",
    "warnings.filterwarnings(\"ignore\")\n",
    "\n",
    "#数据处理包导入\n",
    "import numpy as np\n",
    "import pandas as pd\n",
    "\n",
    "#画图包导入\n",
    "import matplotlib.pyplot as plt\n",
    "plt.style.use(style=\"ggplot\")\n",
    "import missingno as msno\n",
    "import seaborn as sns\n",
    "sns.set()"
   ]
  },
  {
   "cell_type": "code",
   "execution_count": null,
   "metadata": {
    "colab": {
     "base_uri": "https://localhost:8080/",
     "height": 466
    },
    "id": "TqQm2LsNo1Y_",
    "outputId": "e653bc6d-e750-4544-dbce-e5f332978900"
   },
   "outputs": [],
   "source": [
    "# Here's a brief example of how to export the files for items 1 and 2\n",
    "import pandas as pd\n",
    "\n",
    "df_train = pd.read_csv(\"SC Training Data.csv\")\n",
    "df_test = pd.read_csv(\"SC Test Data.csv\")\n",
    "your_nickname = \"XXXXXXX\"\n",
    "\n",
    "##### EXAMPLE OF HOW TO CREATE FILE FOR DECISIONS\n",
    "# Purchase the account if numcalls is below the mean\n",
    "decisions = df_test.numcalls < df_test.numcalls.mean()\n",
    "# Convert the decisions to 1s and 0s\n",
    "decisions = decisions.astype(int)\n",
    "# Create data frame with the decisions and export to CSV file\n",
    "df_decisions = pd.DataFrame({\"acctid\":df_test[\"acctid\"], \"decision\": decisions})\n",
    "df_decisions.to_csv(f\"decisions_{your_nickname}.csv\", index=False)\n",
    "\n",
    "\n",
    "##### EXAMPLE OF HOW TO CREATE FILE FOR EVALUATION\n",
    "# Estimate is the average profits in the training set times the number of accounts in the test set\n",
    "acc_cost = 800\n",
    "estimate = (df_train.totalpay.mean() - acc_cost) * df_test.shape[0]\n",
    "# Transform estimate into integer\n",
    "estimate = int(estimate)\n",
    "# Export results to a text file\n",
    "with open(f\"estimate_{your_nickname}.txt\", \"w\") as text_file:\n",
    "    text_file.write(f\"{estimate:.0f}\")"
   ]
  },
  {
   "cell_type": "markdown",
   "metadata": {},
   "source": [
    "## 数据预处理"
   ]
  },
  {
   "cell_type": "code",
   "execution_count": null,
   "metadata": {
    "scrolled": true
   },
   "outputs": [],
   "source": [
    "df_train"
   ]
  },
  {
   "cell_type": "code",
   "execution_count": null,
   "metadata": {
    "scrolled": true
   },
   "outputs": [],
   "source": [
    "df_train.info()"
   ]
  },
  {
   "cell_type": "code",
   "execution_count": null,
   "metadata": {},
   "outputs": [],
   "source": [
    "#查看缺失值\n",
    "df_train.isnull().sum()"
   ]
  },
  {
   "cell_type": "code",
   "execution_count": null,
   "metadata": {
    "scrolled": true
   },
   "outputs": [],
   "source": [
    "df_train.describe()"
   ]
  },
  {
   "cell_type": "code",
   "execution_count": null,
   "metadata": {},
   "outputs": [],
   "source": [
    "## 数字类型变量 和 分类变量\n",
    "number_features = [ 'acctid','cobal', 'cs']+\"accessscr lnacscr bureauscr eaglemod numcalls numrpcs totalpay\".split(' ')\n",
    "categorical_features = ['state','zip' ,'rollout','collscr']\n",
    "number_features"
   ]
  },
  {
   "cell_type": "code",
   "execution_count": null,
   "metadata": {
    "scrolled": true
   },
   "outputs": [],
   "source": [
    "## 转换分类变量\n",
    "from sklearn.preprocessing import LabelEncoder\n",
    "\n",
    "\n",
    "# 将每一个含有类别变量的列都转化为含有整数值的列\n",
    "label_encoder = LabelEncoder()\n",
    "for col in categorical_features:\n",
    "    df_train[col] = label_encoder.fit_transform(df_train[col])\n",
    "df_train\n",
    "df_train.describe()"
   ]
  },
  {
   "cell_type": "markdown",
   "metadata": {},
   "source": [
    "## 特征选择"
   ]
  },
  {
   "cell_type": "code",
   "execution_count": null,
   "metadata": {},
   "outputs": [],
   "source": [
    "## 检测数值特征和目标变量之间的相关性\n",
    "corrMat =df_train[number_features].corr()\n",
    "mask = np.array(corrMat)\n",
    "mask[np.tril_indices_from(mask)] = False\n",
    "plt.subplots(figsize=(20,10))\n",
    "plt.xticks(rotation=60)#设置刻度标签角度\n",
    "sns.heatmap(corrMat, mask=mask,vmax=.8, square=True,annot=True)\n",
    "\n",
    "corrMat"
   ]
  },
  {
   "cell_type": "code",
   "execution_count": 88,
   "metadata": {},
   "outputs": [
    {
     "data": {
      "text/plain": [
       "totalpay     1.000000\n",
       "cobal        0.292946\n",
       "bureauscr    0.009544\n",
       "eaglemod     0.000990\n",
       "accessscr   -0.004149\n",
       "lnacscr     -0.011206\n",
       "acctid      -0.015790\n",
       "cs          -0.040565\n",
       "numcalls    -0.043031\n",
       "numrpcs     -0.055108\n",
       "Name: totalpay, dtype: float64"
      ]
     },
     "execution_count": 88,
     "metadata": {},
     "output_type": "execute_result"
    }
   ],
   "source": [
    "corrMat[\"totalpay\"].sort_values(ascending=False)"
   ]
  },
  {
   "cell_type": "code",
   "execution_count": 89,
   "metadata": {
    "scrolled": true
   },
   "outputs": [
    {
     "data": {
      "text/plain": [
       "<AxesSubplot:>"
      ]
     },
     "execution_count": 89,
     "metadata": {},
     "output_type": "execute_result"
    },
    {
     "data": {
      "image/png": "[encoded data removed]",
      "text/plain": [
       "<Figure size 432x288 with 1 Axes>"
      ]
     },
     "metadata": {},
     "output_type": "display_data"
    }
   ],
   "source": [
    "corrMat[\"totalpay\"].drop(\"totalpay\").sort_values(ascending=False).plot.barh()"
   ]
  },
  {
   "cell_type": "code",
   "execution_count": 90,
   "metadata": {
    "scrolled": true
   },
   "outputs": [
    {
     "data": {
      "text/plain": [
       "<AxesSubplot:title={'center':'totalpay'}, xlabel='rollout'>"
      ]
     },
     "execution_count": 90,
     "metadata": {},
     "output_type": "execute_result"
    },
    {
     "data": {
      "text/html": [
       "<div>\n",
       "<style scoped>\n",
       "    .dataframe tbody tr th:only-of-type {\n",
       "        vertical-align: middle;\n",
       "    }\n",
       "\n",
       "    .dataframe tbody tr th {\n",
       "        vertical-align: top;\n",
       "    }\n",
       "\n",
       "    .dataframe thead th {\n",
       "        text-align: right;\n",
       "    }\n",
       "</style>\n",
       "<table border=\"1\" class=\"dataframe\">\n",
       "  <thead>\n",
       "    <tr style=\"text-align: right;\">\n",
       "      <th></th>\n",
       "      <th>df</th>\n",
       "      <th>sum_sq</th>\n",
       "      <th>mean_sq</th>\n",
       "      <th>F</th>\n",
       "      <th>PR(&gt;F)</th>\n",
       "    </tr>\n",
       "  </thead>\n",
       "  <tbody>\n",
       "    <tr>\n",
       "      <th>rollout</th>\n",
       "      <td>7.0</td>\n",
       "      <td>3.825964e+07</td>\n",
       "      <td>5.465662e+06</td>\n",
       "      <td>5.331253</td>\n",
       "      <td>0.000004</td>\n",
       "    </tr>\n",
       "    <tr>\n",
       "      <th>Residual</th>\n",
       "      <td>3562.0</td>\n",
       "      <td>3.651804e+09</td>\n",
       "      <td>1.025212e+06</td>\n",
       "      <td>NaN</td>\n",
       "      <td>NaN</td>\n",
       "    </tr>\n",
       "  </tbody>\n",
       "</table>\n",
       "</div>"
      ],
      "text/plain": [
       "              df        sum_sq       mean_sq         F    PR(>F)\n",
       "rollout      7.0  3.825964e+07  5.465662e+06  5.331253  0.000004\n",
       "Residual  3562.0  3.651804e+09  1.025212e+06       NaN       NaN"
      ]
     },
     "execution_count": 90,
     "metadata": {},
     "output_type": "execute_result"
    },
    {
     "data": {
      "image/png": "[encoded data removed]",
      "text/plain": [
       "<Figure size 864x576 with 1 Axes>"
      ]
     },
     "metadata": {},
     "output_type": "display_data"
    }
   ],
   "source": [
    "##分类变量与totalpay的相关性分析\n",
    "#rollout\n",
    "import numpy as np\n",
    "import pandas as pd\n",
    "import scipy.stats as stats\n",
    "import matplotlib.pyplot as plt\n",
    "import seaborn as sns\n",
    "from statsmodels.formula.api import ols\n",
    "from statsmodels.stats.anova import anova_lm\n",
    "from scipy.stats import ttest_1samp\n",
    "\n",
    "df_train = pd.read_csv(\"SC Training Data.csv\")\n",
    "df_train.boxplot('totalpay', by='rollout', figsize=(12, 8))\n",
    "#sns.boxplot(x='Products',y='Worker',data=df4)\n",
    "plt.savefig('totalpay-rollout')\n",
    "\n",
    "model=ols('totalpay ~rollout', data=df_train).fit()\n",
    "anova_table = anova_lm(model, type=2)\n",
    "pd.DataFrame(anova_table)"
   ]
  },
  {
   "cell_type": "code",
   "execution_count": 91,
   "metadata": {
    "scrolled": true
   },
   "outputs": [
    {
     "data": {
      "text/plain": [
       "<AxesSubplot:title={'center':'totalpay'}, xlabel='state'>"
      ]
     },
     "execution_count": 91,
     "metadata": {},
     "output_type": "execute_result"
    },
    {
     "data": {
      "text/html": [
       "<div>\n",
       "<style scoped>\n",
       "    .dataframe tbody tr th:only-of-type {\n",
       "        vertical-align: middle;\n",
       "    }\n",
       "\n",
       "    .dataframe tbody tr th {\n",
       "        vertical-align: top;\n",
       "    }\n",
       "\n",
       "    .dataframe thead th {\n",
       "        text-align: right;\n",
       "    }\n",
       "</style>\n",
       "<table border=\"1\" class=\"dataframe\">\n",
       "  <thead>\n",
       "    <tr style=\"text-align: right;\">\n",
       "      <th></th>\n",
       "      <th>df</th>\n",
       "      <th>sum_sq</th>\n",
       "      <th>mean_sq</th>\n",
       "      <th>F</th>\n",
       "      <th>PR(&gt;F)</th>\n",
       "    </tr>\n",
       "  </thead>\n",
       "  <tbody>\n",
       "    <tr>\n",
       "      <th>state</th>\n",
       "      <td>50.0</td>\n",
       "      <td>1.299687e+08</td>\n",
       "      <td>2.599373e+06</td>\n",
       "      <td>2.569368</td>\n",
       "      <td>1.233844e-08</td>\n",
       "    </tr>\n",
       "    <tr>\n",
       "      <th>Residual</th>\n",
       "      <td>3519.0</td>\n",
       "      <td>3.560095e+09</td>\n",
       "      <td>1.011678e+06</td>\n",
       "      <td>NaN</td>\n",
       "      <td>NaN</td>\n",
       "    </tr>\n",
       "  </tbody>\n",
       "</table>\n",
       "</div>"
      ],
      "text/plain": [
       "              df        sum_sq       mean_sq         F        PR(>F)\n",
       "state       50.0  1.299687e+08  2.599373e+06  2.569368  1.233844e-08\n",
       "Residual  3519.0  3.560095e+09  1.011678e+06       NaN           NaN"
      ]
     },
     "execution_count": 91,
     "metadata": {},
     "output_type": "execute_result"
    },
    {
     "data": {
      "image/png": "[encoded data removed]",
      "text/plain": [
       "<Figure size 864x576 with 1 Axes>"
      ]
     },
     "metadata": {},
     "output_type": "display_data"
    }
   ],
   "source": [
    "#state\n",
    "df_train.boxplot('totalpay', by='state', figsize=(12, 8))\n",
    "#sns.boxplot(x='state',y='state',data=df4)\n",
    "plt.savefig('totalpay-state')\n",
    "\n",
    "model=ols('totalpay ~state', data=df_train).fit()\n",
    "anova_table = anova_lm(model, type=2)\n",
    "pd.DataFrame(anova_table)"
   ]
  },
  {
   "cell_type": "code",
   "execution_count": 92,
   "metadata": {
    "scrolled": true
   },
   "outputs": [
    {
     "data": {
      "image/png": "[encoded data removed]",
      "text/plain": [
       "<Figure size 432x288 with 1 Axes>"
      ]
     },
     "metadata": {},
     "output_type": "display_data"
    }
   ],
   "source": [
    "import seaborn as sns\n",
    "sns.boxplot(x=df_train['cobal']);\n",
    "sns.boxplot(x=df_train['cs']);\n",
    "sns.boxplot(x=df_train['numcalls']);\n",
    "sns.boxplot(x=df_train['numrpcs']);"
   ]
  },
  {
   "cell_type": "code",
   "execution_count": 93,
   "metadata": {
    "scrolled": false
   },
   "outputs": [
    {
     "data": {
      "text/html": [
       "<div>\n",
       "<style scoped>\n",
       "    .dataframe tbody tr th:only-of-type {\n",
       "        vertical-align: middle;\n",
       "    }\n",
       "\n",
       "    .dataframe tbody tr th {\n",
       "        vertical-align: top;\n",
       "    }\n",
       "\n",
       "    .dataframe thead th {\n",
       "        text-align: right;\n",
       "    }\n",
       "</style>\n",
       "<table border=\"1\" class=\"dataframe\">\n",
       "  <thead>\n",
       "    <tr style=\"text-align: right;\">\n",
       "      <th></th>\n",
       "      <th>acctid</th>\n",
       "      <th>state</th>\n",
       "      <th>zip</th>\n",
       "      <th>rollout</th>\n",
       "      <th>cobal</th>\n",
       "      <th>collscr</th>\n",
       "      <th>cs</th>\n",
       "      <th>accessscr</th>\n",
       "      <th>lnacscr</th>\n",
       "      <th>bureauscr</th>\n",
       "      <th>eaglemod</th>\n",
       "      <th>numcalls</th>\n",
       "      <th>numrpcs</th>\n",
       "      <th>totalpay</th>\n",
       "    </tr>\n",
       "  </thead>\n",
       "  <tbody>\n",
       "    <tr>\n",
       "      <th>0</th>\n",
       "      <td>1</td>\n",
       "      <td>CA</td>\n",
       "      <td>93313</td>\n",
       "      <td>Wells</td>\n",
       "      <td>1786</td>\n",
       "      <td>4013181</td>\n",
       "      <td>4</td>\n",
       "      <td>0.1992</td>\n",
       "      <td>-1.61</td>\n",
       "      <td>133</td>\n",
       "      <td>67</td>\n",
       "      <td>104</td>\n",
       "      <td>3</td>\n",
       "      <td>360</td>\n",
       "    </tr>\n",
       "    <tr>\n",
       "      <th>1</th>\n",
       "      <td>3</td>\n",
       "      <td>FL</td>\n",
       "      <td>33319</td>\n",
       "      <td>Wells</td>\n",
       "      <td>5170</td>\n",
       "      <td>4013057</td>\n",
       "      <td>4</td>\n",
       "      <td>0.8140</td>\n",
       "      <td>-0.21</td>\n",
       "      <td>103</td>\n",
       "      <td>90</td>\n",
       "      <td>28</td>\n",
       "      <td>1</td>\n",
       "      <td>10</td>\n",
       "    </tr>\n",
       "    <tr>\n",
       "      <th>2</th>\n",
       "      <td>4</td>\n",
       "      <td>WA</td>\n",
       "      <td>98115</td>\n",
       "      <td>Bank_Of_Am</td>\n",
       "      <td>4506</td>\n",
       "      <td>8012265</td>\n",
       "      <td>8</td>\n",
       "      <td>0.2978</td>\n",
       "      <td>-1.21</td>\n",
       "      <td>136</td>\n",
       "      <td>11</td>\n",
       "      <td>8</td>\n",
       "      <td>2</td>\n",
       "      <td>2550</td>\n",
       "    </tr>\n",
       "    <tr>\n",
       "      <th>3</th>\n",
       "      <td>6</td>\n",
       "      <td>MD</td>\n",
       "      <td>20743</td>\n",
       "      <td>Associates</td>\n",
       "      <td>740</td>\n",
       "      <td>5012860</td>\n",
       "      <td>5</td>\n",
       "      <td>0.4153</td>\n",
       "      <td>-0.88</td>\n",
       "      <td>120</td>\n",
       "      <td>51</td>\n",
       "      <td>9</td>\n",
       "      <td>1</td>\n",
       "      <td>14</td>\n",
       "    </tr>\n",
       "    <tr>\n",
       "      <th>4</th>\n",
       "      <td>7</td>\n",
       "      <td>TN</td>\n",
       "      <td>37917</td>\n",
       "      <td>Discover</td>\n",
       "      <td>1578</td>\n",
       "      <td>3013468</td>\n",
       "      <td>3</td>\n",
       "      <td>0.8264</td>\n",
       "      <td>-0.19</td>\n",
       "      <td>126</td>\n",
       "      <td>67</td>\n",
       "      <td>82</td>\n",
       "      <td>1</td>\n",
       "      <td>368</td>\n",
       "    </tr>\n",
       "    <tr>\n",
       "      <th>...</th>\n",
       "      <td>...</td>\n",
       "      <td>...</td>\n",
       "      <td>...</td>\n",
       "      <td>...</td>\n",
       "      <td>...</td>\n",
       "      <td>...</td>\n",
       "      <td>...</td>\n",
       "      <td>...</td>\n",
       "      <td>...</td>\n",
       "      <td>...</td>\n",
       "      <td>...</td>\n",
       "      <td>...</td>\n",
       "      <td>...</td>\n",
       "      <td>...</td>\n",
       "    </tr>\n",
       "    <tr>\n",
       "      <th>2969</th>\n",
       "      <td>3564</td>\n",
       "      <td>KS</td>\n",
       "      <td>66762</td>\n",
       "      <td>Associates</td>\n",
       "      <td>2213</td>\n",
       "      <td>7012524</td>\n",
       "      <td>7</td>\n",
       "      <td>0.0072</td>\n",
       "      <td>-4.93</td>\n",
       "      <td>130</td>\n",
       "      <td>52</td>\n",
       "      <td>87</td>\n",
       "      <td>2</td>\n",
       "      <td>60</td>\n",
       "    </tr>\n",
       "    <tr>\n",
       "      <th>2970</th>\n",
       "      <td>3565</td>\n",
       "      <td>SC</td>\n",
       "      <td>29692</td>\n",
       "      <td>Chase</td>\n",
       "      <td>2582</td>\n",
       "      <td>8000000</td>\n",
       "      <td>8</td>\n",
       "      <td>0.6965</td>\n",
       "      <td>-0.36</td>\n",
       "      <td>109</td>\n",
       "      <td>31</td>\n",
       "      <td>36</td>\n",
       "      <td>1</td>\n",
       "      <td>1595</td>\n",
       "    </tr>\n",
       "    <tr>\n",
       "      <th>2971</th>\n",
       "      <td>3566</td>\n",
       "      <td>OH</td>\n",
       "      <td>44657</td>\n",
       "      <td>Chase</td>\n",
       "      <td>2301</td>\n",
       "      <td>3013349</td>\n",
       "      <td>3</td>\n",
       "      <td>0.6237</td>\n",
       "      <td>-0.47</td>\n",
       "      <td>110</td>\n",
       "      <td>85</td>\n",
       "      <td>41</td>\n",
       "      <td>4</td>\n",
       "      <td>1600</td>\n",
       "    </tr>\n",
       "    <tr>\n",
       "      <th>2972</th>\n",
       "      <td>3567</td>\n",
       "      <td>CA</td>\n",
       "      <td>90005</td>\n",
       "      <td>Associates</td>\n",
       "      <td>1763</td>\n",
       "      <td>2014341</td>\n",
       "      <td>2</td>\n",
       "      <td>0.3298</td>\n",
       "      <td>-1.11</td>\n",
       "      <td>125</td>\n",
       "      <td>19</td>\n",
       "      <td>6</td>\n",
       "      <td>2</td>\n",
       "      <td>50</td>\n",
       "    </tr>\n",
       "    <tr>\n",
       "      <th>2973</th>\n",
       "      <td>3569</td>\n",
       "      <td>MD</td>\n",
       "      <td>20895</td>\n",
       "      <td>Wells</td>\n",
       "      <td>2123</td>\n",
       "      <td>3013611</td>\n",
       "      <td>3</td>\n",
       "      <td>0.2350</td>\n",
       "      <td>-1.45</td>\n",
       "      <td>121</td>\n",
       "      <td>87</td>\n",
       "      <td>48</td>\n",
       "      <td>3</td>\n",
       "      <td>728</td>\n",
       "    </tr>\n",
       "  </tbody>\n",
       "</table>\n",
       "<p>2974 rows × 14 columns</p>\n",
       "</div>"
      ],
      "text/plain": [
       "      acctid state    zip     rollout  cobal  collscr  cs  accessscr  lnacscr  \\\n",
       "0          1    CA  93313       Wells   1786  4013181   4     0.1992    -1.61   \n",
       "1          3    FL  33319       Wells   5170  4013057   4     0.8140    -0.21   \n",
       "2          4    WA  98115  Bank_Of_Am   4506  8012265   8     0.2978    -1.21   \n",
       "3          6    MD  20743  Associates    740  5012860   5     0.4153    -0.88   \n",
       "4          7    TN  37917    Discover   1578  3013468   3     0.8264    -0.19   \n",
       "...      ...   ...    ...         ...    ...      ...  ..        ...      ...   \n",
       "2969    3564    KS  66762  Associates   2213  7012524   7     0.0072    -4.93   \n",
       "2970    3565    SC  29692       Chase   2582  8000000   8     0.6965    -0.36   \n",
       "2971    3566    OH  44657       Chase   2301  3013349   3     0.6237    -0.47   \n",
       "2972    3567    CA  90005  Associates   1763  2014341   2     0.3298    -1.11   \n",
       "2973    3569    MD  20895       Wells   2123  3013611   3     0.2350    -1.45   \n",
       "\n",
       "      bureauscr  eaglemod  numcalls  numrpcs  totalpay  \n",
       "0           133        67       104        3       360  \n",
       "1           103        90        28        1        10  \n",
       "2           136        11         8        2      2550  \n",
       "3           120        51         9        1        14  \n",
       "4           126        67        82        1       368  \n",
       "...         ...       ...       ...      ...       ...  \n",
       "2969        130        52        87        2        60  \n",
       "2970        109        31        36        1      1595  \n",
       "2971        110        85        41        4      1600  \n",
       "2972        125        19         6        2        50  \n",
       "2973        121        87        48        3       728  \n",
       "\n",
       "[2974 rows x 14 columns]"
      ]
     },
     "execution_count": 93,
     "metadata": {},
     "output_type": "execute_result"
    }
   ],
   "source": [
    "###Outliers handling\n",
    "##Using 4-Quantile to locate outliers\n",
    "df_d_col1=\"cobal\"\n",
    "##df_d_col2=\"cs\"\n",
    "df_d_col3=\"numcalls\"\n",
    "df_d_col4=\"numrpcs\"\n",
    "df_pl=1.5\n",
    "\n",
    "df_Q1_all=df_train.quantile(0.25)\n",
    "df_Q3_all=df_train.quantile(0.75)\n",
    "df_Q1_d1=df_Q1_all[df_d_col1]\n",
    "df_Q3_d1=df_Q3_all[df_d_col1]\n",
    "##df_Q1_d2=df_Q1_all[df_d_col2]\n",
    "##df_Q3_d2=df_Q3_all[df_d_col2]\n",
    "df_Q1_d3=df_Q1_all[df_d_col3]\n",
    "df_Q3_d3=df_Q3_all[df_d_col3]\n",
    "df_Q1_d4=df_Q1_all[df_d_col4]\n",
    "df_Q3_d4=df_Q3_all[df_d_col4]\n",
    "\n",
    "df_IQR_all=df_Q3_all-df_Q1_all\n",
    "df_IQR_d1=df_IQR_all[df_d_col1]\n",
    "##df_IQR_d2=df_IQR_all[df_d_col2]\n",
    "df_IQR_d3=df_IQR_all[df_d_col3]\n",
    "df_IQR_d4=df_IQR_all[df_d_col4]\n",
    "\n",
    "outliers_1=df_train[(df_train[df_d_col1]<(df_Q1_d1-df_pl*df_IQR_d1))|(df_train[df_d_col1]>(df_Q3_d1+df_pl*df_IQR_d1))].index.tolist()\n",
    "#outliers_2=df_train[(df_train[df_d_col2]<(df_Q1_d2-df_pl*df_IQR_d2))|(df_train[df_d_col2]>(df_Q3_d2+df_pl*df_IQR_d2))].index.tolist()\n",
    "outliers_3=df_train[(df_train[df_d_col3]<(df_Q1_d3-df_pl*df_IQR_d3))|(df_train[df_d_col3]>(df_Q3_d3+df_pl*df_IQR_d3))].index.tolist()\n",
    "outliers_4=df_train[(df_train[df_d_col4]<(df_Q1_d4-df_pl*df_IQR_d4))|(df_train[df_d_col4]>(df_Q3_d4+df_pl*df_IQR_d4))].index.tolist()\n",
    "outliers=outliers_1+outliers_3+outliers_4\n",
    "##Delete outliers and re-define dataframe\n",
    "df_train.drop(index=outliers, inplace=True)\n",
    "df_train.reset_index(drop=True, inplace=True)\n",
    "df_train"
   ]
  },
  {
   "cell_type": "markdown",
   "metadata": {},
   "source": [
    "## 构建模型"
   ]
  },
  {
   "cell_type": "code",
   "execution_count": 95,
   "metadata": {},
   "outputs": [
    {
     "name": "stdout",
     "output_type": "stream",
     "text": [
      "LR: 909.218891 (102.376630)\n",
      "Ridge: 907.397480 (102.917331)\n",
      "Lasso: 909.079129 (102.369200)\n",
      "RF: 935.885899 (100.516245)\n",
      "GBR: 903.685649 (88.565541)\n",
      "SVR: 989.569327 (130.533477)\n",
      "LinSVR: 1751.838310 (823.391157)\n",
      "Ela: 907.455705 (102.901175)\n",
      "SGD: 3451034223898030.000000 (3137095727108898.500000)\n",
      "Bay: 908.318703 (102.348303)\n",
      "Ker: 921.186791 (95.728200)\n",
      "Extra: 971.606615 (95.417579)\n",
      "Tree: 1275.163330 (109.866803)\n",
      "{'alpha': 0.0009, 'max_iter': 10000} 914.9495125945207\n",
      "{'alpha': 55} 906.886617256251\n",
      "{'C': 15, 'epsilon': 0.009, 'gamma': 0.0003, 'kernel': 'rbf'} 1000.5869692799998\n",
      "{'alpha': 0.4, 'coef0': 0.8, 'degree': 3, 'kernel': 'polynomial'} 1032.8304357684708\n",
      "{'alpha': 0.005, 'l1_ratio': 0.08, 'max_iter': 10000} 909.2872259676512\n",
      "{'criterion': 'mse', 'min_samples_leaf': 55} 919.8447808027903\n"
     ]
    }
   ],
   "source": [
    "from sklearn.model_selection import cross_val_score, GridSearchCV, KFold\n",
    "\n",
    "from sklearn.base import BaseEstimator, TransformerMixin, RegressorMixin\n",
    "from sklearn.base import clone\n",
    "from sklearn.linear_model import Lasso\n",
    "from sklearn.linear_model import LinearRegression\n",
    "from sklearn.linear_model import Ridge\n",
    "from sklearn.ensemble import RandomForestRegressor, GradientBoostingRegressor, ExtraTreesRegressor\n",
    "from sklearn.svm import SVR, LinearSVR\n",
    "from sklearn.linear_model import ElasticNet, SGDRegressor, BayesianRidge\n",
    "from sklearn.kernel_ridge import KernelRidge\n",
    "from sklearn.tree import DecisionTreeRegressor\n",
    "from sklearn.model_selection import train_test_split\n",
    "##from xgboost import XGBRegressor\n",
    "\n",
    "feature_names = ['state', 'rollout', 'cobal', 'cs', 'numcalls','numrpcs']\n",
    "categorical_features = ['state', 'rollout']\n",
    "Xtrain = pd.get_dummies(df_train[feature_names], columns=categorical_features, drop_first=True)\n",
    "Ytrain = df_train[\"totalpay\"]\n",
    "X_train, X_test, y_train, y_test = train_test_split(Xtrain, Ytrain, test_size=0.2, random_state=42)\n",
    "\n",
    "def rmse_cv(model, X, y):\n",
    "    rmse = np.sqrt(-cross_val_score(model, X, y, scoring='neg_mean_squared_error', cv=5))\n",
    "    return rmse\n",
    "\n",
    "models = [LinearRegression(),Ridge(),Lasso(alpha=0.01,max_iter=10000),RandomForestRegressor(),GradientBoostingRegressor(),SVR(),LinearSVR(),\n",
    "          ElasticNet(alpha=0.001,max_iter=10000),SGDRegressor(max_iter=1000,tol=1e-3),BayesianRidge(),KernelRidge(alpha=0.6, kernel='polynomial', degree=2, coef0=2.5),\n",
    "          ExtraTreesRegressor(),DecisionTreeRegressor()]\n",
    "names = [\"LR\", \"Ridge\", \"Lasso\", \"RF\", \"GBR\", \"SVR\", \"LinSVR\", \"Ela\",\"SGD\",\"Bay\",\"Ker\",\"Extra\",\"Tree\"]\n",
    "cv_results = []\n",
    "for name, model in zip(names, models):\n",
    "    score = rmse_cv(model, X_train, y_train)\n",
    "    cv_results.append(score)\n",
    "    print('%s: %f (%f)' % (name, score.mean(), score.std()))\n",
    "\n",
    "def grid(model, X, y, params):\n",
    "    grid_search = GridSearchCV(model, params, scoring='neg_mean_squared_error', cv=5)\n",
    "    grid_search.fit(X, y)\n",
    "    print(grid_search.best_params_, np.sqrt(-grid_search.best_score_))\n",
    "\n",
    "params_lasso = {'alpha': [0.0004,0.0005,0.0007,0.0009], 'max_iter':[10000]}\n",
    "grid(Lasso(), X_train, y_train, params_lasso)\n",
    "\n",
    "params_ridge = {'alpha':[35,40,45,50,55,60,65,70,80,90]}\n",
    "grid(Ridge(), X_train, y_train, params_ridge)\n",
    "\n",
    "params_svr = {'C':[11,13,15],'kernel':[\"rbf\"],\"gamma\":[0.0003,0.0004],\"epsilon\":[0.008,0.009]}\n",
    "grid(SVR(), X_train, y_train, params_svr)\n",
    "\n",
    "params_ker = {'alpha':[0.2,0.3,0.4], 'kernel':[\"polynomial\"], 'degree':[3],'coef0':[0.8,1]}\n",
    "grid(KernelRidge(), X_train, y_train, params_ker)\n",
    "\n",
    "params_ela = {'alpha':[0.0008,0.004,0.005],'l1_ratio':[0.08,0.1,0.3],'max_iter':[10000]}\n",
    "grid(ElasticNet(), X_train, y_train, params_ela)\n",
    "\n",
    "params_tree= {\"min_samples_leaf\": range(1, 66), \"criterion\":['mse', 'mae', 'friedman_mse']}\n",
    "grid(DecisionTreeRegressor(), X_train, y_train, params_tree)\n",
    "\n",
    "lasso = Lasso(alpha=0.0009, max_iter=10000)\n",
    "ridge = Ridge(alpha=65)\n",
    "svr = SVR(C=15, epsilon=0.009, gamma= 0.0004, kernel='rbf')\n",
    "ker = KernelRidge(alpha=0.4, coef0=1, degree=3, kernel='polynomial')\n",
    "ela = ElasticNet(alpha=0.005,l1_ratio=0.1,max_iter=10000)\n",
    "bay = BayesianRidge()"
   ]
  },
  {
   "cell_type": "code",
   "execution_count": null,
   "metadata": {},
   "outputs": [],
   "source": []
  }
 ],
 "metadata": {
  "anaconda-cloud": {},
  "colab": {
   "collapsed_sections": [],
   "name": "Homework2.ipynb",
   "provenance": []
  },
  "kernelspec": {
   "display_name": "Python 3 (ipykernel)",
   "language": "python",
   "name": "python3"
  },
  "language_info": {
   "codemirror_mode": {
    "name": "ipython",
    "version": 3
   },
   "file_extension": ".py",
   "mimetype": "text/x-python",
   "name": "python",
   "nbconvert_exporter": "python",
   "pygments_lexer": "ipython3",
   "version": "3.9.12"
  }
 },
 "nbformat": 4,
 "nbformat_minor": 1
}
